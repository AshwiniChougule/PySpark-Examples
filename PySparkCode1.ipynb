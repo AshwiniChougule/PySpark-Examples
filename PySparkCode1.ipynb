{
 "cells": [
  {
   "cell_type": "code",
   "execution_count": 1,
   "metadata": {},
   "outputs": [],
   "source": [
    "from pyspark import SparkContext"
   ]
  },
  {
   "cell_type": "code",
   "execution_count": 2,
   "metadata": {},
   "outputs": [],
   "source": [
    "#Reading Without Schema(User defined)\n",
    "df=spark.read.csv(\"/Users/gautam/Desktop/PySparkExamples/Data/test1.csv\",header=True)"
   ]
  },
  {
   "cell_type": "code",
   "execution_count": 3,
   "metadata": {},
   "outputs": [
    {
     "name": "stdout",
     "output_type": "stream",
     "text": [
      "+------------+------+-----+----+\n",
      "|BusinessDate|Burger|Fries|Coke|\n",
      "+------------+------+-----+----+\n",
      "|  2020-12-04|   110|   90|  50|\n",
      "+------------+------+-----+----+\n",
      "\n"
     ]
    }
   ],
   "source": [
    "df.show()"
   ]
  },
  {
   "cell_type": "code",
   "execution_count": 4,
   "metadata": {},
   "outputs": [
    {
     "name": "stdout",
     "output_type": "stream",
     "text": [
      "root\n",
      " |-- BusinessDate: string (nullable = true)\n",
      " |-- Burger: string (nullable = true)\n",
      " |-- Fries: string (nullable = true)\n",
      " |-- Coke: string (nullable = true)\n",
      "\n"
     ]
    }
   ],
   "source": [
    "df.printSchema()"
   ]
  },
  {
   "cell_type": "code",
   "execution_count": 5,
   "metadata": {},
   "outputs": [],
   "source": [
    "import pyspark\n",
    "from pyspark.sql import SparkSession\n",
    "from pyspark.sql.types import StructType,StructField, StringType, IntegerType, DateType \n",
    "from pyspark.sql.types import ArrayType, DoubleType, BooleanType\n",
    "from pyspark.sql.functions import col,array_contains"
   ]
  },
  {
   "cell_type": "code",
   "execution_count": 6,
   "metadata": {},
   "outputs": [],
   "source": [
    "schema = StructType() \\\n",
    "      .add(\"BusinessDate\",DateType(),True) \\\n",
    "      .add(\"Burger\",DoubleType(),True) \\\n",
    "      .add(\"Fries\",DoubleType(),True) \\\n",
    "      .add(\"Coke\",DoubleType(),True)"
   ]
  },
  {
   "cell_type": "code",
   "execution_count": 7,
   "metadata": {},
   "outputs": [],
   "source": [
    "#Reading with schema\n",
    "df_with_schema=spark.read.format(\"csv\") \\\n",
    "      .option(\"header\", True) \\\n",
    "      .schema(schema) \\\n",
    "      .load(\"file:///Users/gautam/Desktop/PySparkExamples/Data/test1.csv\")"
   ]
  },
  {
   "cell_type": "code",
   "execution_count": 8,
   "metadata": {},
   "outputs": [
    {
     "name": "stdout",
     "output_type": "stream",
     "text": [
      "+------------+------+-----+----+\n",
      "|BusinessDate|Burger|Fries|Coke|\n",
      "+------------+------+-----+----+\n",
      "|  2020-12-04| 110.0| 90.0|50.0|\n",
      "+------------+------+-----+----+\n",
      "\n"
     ]
    }
   ],
   "source": [
    "df_with_schema.show()"
   ]
  },
  {
   "cell_type": "code",
   "execution_count": 9,
   "metadata": {},
   "outputs": [
    {
     "name": "stdout",
     "output_type": "stream",
     "text": [
      "root\n",
      " |-- BusinessDate: date (nullable = true)\n",
      " |-- Burger: double (nullable = true)\n",
      " |-- Fries: double (nullable = true)\n",
      " |-- Coke: double (nullable = true)\n",
      "\n"
     ]
    }
   ],
   "source": [
    "df_with_schema.printSchema()"
   ]
  },
  {
   "cell_type": "code",
   "execution_count": 10,
   "metadata": {},
   "outputs": [],
   "source": [
    "import pyspark.sql.functions as F"
   ]
  },
  {
   "cell_type": "code",
   "execution_count": 11,
   "metadata": {},
   "outputs": [],
   "source": [
    "#To add new column to the same dataframe with the logic applied\n",
    "df_final = df_with_schema.withColumn(\"TotalSales\", F.col(\"Burger\")+F.col(\"Fries\")+F.col(\"Coke\"))"
   ]
  },
  {
   "cell_type": "code",
   "execution_count": 12,
   "metadata": {},
   "outputs": [
    {
     "name": "stdout",
     "output_type": "stream",
     "text": [
      "+------------+------+-----+----+----------+\n",
      "|BusinessDate|Burger|Fries|Coke|TotalSales|\n",
      "+------------+------+-----+----+----------+\n",
      "|  2020-12-04| 110.0| 90.0|50.0|     250.0|\n",
      "+------------+------+-----+----+----------+\n",
      "\n"
     ]
    }
   ],
   "source": [
    "df_final.show()"
   ]
  },
  {
   "cell_type": "code",
   "execution_count": 13,
   "metadata": {},
   "outputs": [],
   "source": [
    "df_final_to_csv=df_final.drop('Burger','Fries','Coke')"
   ]
  },
  {
   "cell_type": "code",
   "execution_count": 14,
   "metadata": {},
   "outputs": [
    {
     "name": "stdout",
     "output_type": "stream",
     "text": [
      "+------------+----------+\n",
      "|BusinessDate|TotalSales|\n",
      "+------------+----------+\n",
      "|  2020-12-04|     250.0|\n",
      "+------------+----------+\n",
      "\n"
     ]
    }
   ],
   "source": [
    "df_final_to_csv.show()"
   ]
  },
  {
   "cell_type": "code",
   "execution_count": 15,
   "metadata": {},
   "outputs": [
    {
     "name": "stdout",
     "output_type": "stream",
     "text": [
      "root\n",
      " |-- BusinessDate: date (nullable = true)\n",
      " |-- TotalSales: double (nullable = true)\n",
      "\n"
     ]
    }
   ],
   "source": [
    "df_final_to_csv.printSchema()"
   ]
  },
  {
   "cell_type": "code",
   "execution_count": 16,
   "metadata": {},
   "outputs": [],
   "source": [
    "df_final_to_csv.repartition(1).write.option(\"header\",True).mode(\"overwrite\") \\\n",
    " .csv(\"file:///Users/gautam/Desktop/PySparkExamples/Output/testoutput\")"
   ]
  },
  {
   "cell_type": "code",
   "execution_count": 17,
   "metadata": {},
   "outputs": [],
   "source": [
    "####This use case is completed taking one file and getting the desired output"
   ]
  },
  {
   "cell_type": "code",
   "execution_count": 18,
   "metadata": {},
   "outputs": [],
   "source": [
    "#Taking all the files in a directory and making use of same logic and packages as above"
   ]
  },
  {
   "cell_type": "code",
   "execution_count": 19,
   "metadata": {},
   "outputs": [],
   "source": [
    "from pyspark import SparkContext\n",
    "from pyspark.sql import SparkSession\n",
    "from pyspark.sql.types import StructType,StructField, StringType, IntegerType,DateType \n",
    "from pyspark.sql.types import ArrayType, DoubleType, BooleanType\n",
    "from pyspark.sql.functions import col,array_contains\n",
    "import pyspark.sql.functions as F\n",
    "\n",
    "schema = StructType() \\\n",
    "      .add(\"BusinessDate\",DateType(),True) \\\n",
    "      .add(\"Burger\",DoubleType(),True) \\\n",
    "      .add(\"Fries\",DoubleType(),True) \\\n",
    "      .add(\"Coke\",DoubleType(),True)\n",
    "\n",
    "#Reading with schema\n",
    "df_with_schema=spark.read.format(\"csv\") \\\n",
    "      .option(\"header\", True) \\\n",
    "      .schema(schema) \\\n",
    "      .load(\"/Users/gautam/Desktop/PySparkExamples/Data/\")\n",
    "\n",
    "#To add new column to the same dataframe with the logic applied\n",
    "df_final = df_with_schema.withColumn(\"TotalSales\", F.col(\"Burger\")+F.col(\"Fries\")+F.col(\"Coke\"))\n",
    "df_final_to_csv=df_final.drop('Burger','Fries','Coke')\n",
    "df_final_to_csv.coalesce(1).write.option(\"header\",True).mode(\"overwrite\") \\\n",
    " .csv(\"file:///Users/gautam/Desktop/PySparkExamples/Output/testoutput\")"
   ]
  },
  {
   "cell_type": "code",
   "execution_count": 20,
   "metadata": {},
   "outputs": [
    {
     "name": "stdout",
     "output_type": "stream",
     "text": [
      "root\n",
      " |-- BusinessDate: date (nullable = true)\n",
      " |-- Burger: double (nullable = true)\n",
      " |-- Fries: double (nullable = true)\n",
      " |-- Coke: double (nullable = true)\n",
      "\n"
     ]
    }
   ],
   "source": [
    "df_with_schema.printSchema()"
   ]
  },
  {
   "cell_type": "code",
   "execution_count": 21,
   "metadata": {},
   "outputs": [
    {
     "name": "stdout",
     "output_type": "stream",
     "text": [
      "+------------+------+-----+----+----------+\n",
      "|BusinessDate|Burger|Fries|Coke|TotalSales|\n",
      "+------------+------+-----+----+----------+\n",
      "|  2020-12-04| 150.0|100.0|50.0|     300.0|\n",
      "|  2020-12-04| 110.0| 90.0|50.0|     250.0|\n",
      "|  2020-12-03|  50.0| 10.0|50.0|     110.0|\n",
      "|  2020-12-04|  30.0| 10.0|50.0|      90.0|\n",
      "+------------+------+-----+----+----------+\n",
      "\n"
     ]
    }
   ],
   "source": [
    "df_final.show()"
   ]
  },
  {
   "cell_type": "code",
   "execution_count": 22,
   "metadata": {},
   "outputs": [
    {
     "name": "stdout",
     "output_type": "stream",
     "text": [
      "+------------+----------+\n",
      "|BusinessDate|TotalSales|\n",
      "+------------+----------+\n",
      "|  2020-12-04|     300.0|\n",
      "|  2020-12-04|     250.0|\n",
      "|  2020-12-03|     110.0|\n",
      "|  2020-12-04|      90.0|\n",
      "+------------+----------+\n",
      "\n"
     ]
    }
   ],
   "source": [
    "df_final_to_csv.show()"
   ]
  },
  {
   "cell_type": "code",
   "execution_count": 23,
   "metadata": {},
   "outputs": [],
   "source": [
    "#To group the output based on business date and calculate the sales for a particular day\n",
    "grouped_data=df_final_to_csv.groupBy('BusinessDate')"
   ]
  },
  {
   "cell_type": "code",
   "execution_count": 24,
   "metadata": {},
   "outputs": [],
   "source": [
    "df_new=grouped_data.sum('TotalSales')"
   ]
  },
  {
   "cell_type": "code",
   "execution_count": 25,
   "metadata": {},
   "outputs": [
    {
     "name": "stdout",
     "output_type": "stream",
     "text": [
      "+------------+---------------+\n",
      "|BusinessDate|sum(TotalSales)|\n",
      "+------------+---------------+\n",
      "|  2020-12-03|          110.0|\n",
      "|  2020-12-04|          640.0|\n",
      "+------------+---------------+\n",
      "\n"
     ]
    }
   ],
   "source": [
    "df_new.show()"
   ]
  },
  {
   "cell_type": "code",
   "execution_count": null,
   "metadata": {},
   "outputs": [],
   "source": []
  }
 ],
 "metadata": {
  "kernelspec": {
   "display_name": "Python 2",
   "language": "python",
   "name": "python2"
  },
  "language_info": {
   "codemirror_mode": {
    "name": "ipython",
    "version": 2
   },
   "file_extension": ".py",
   "mimetype": "text/x-python",
   "name": "python",
   "nbconvert_exporter": "python",
   "pygments_lexer": "ipython2",
   "version": "2.7.16"
  }
 },
 "nbformat": 4,
 "nbformat_minor": 2
}
